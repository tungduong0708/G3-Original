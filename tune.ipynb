{
 "cells": [
  {
   "cell_type": "code",
   "execution_count": null,
   "id": "3f13be68",
   "metadata": {},
   "outputs": [],
   "source": [
    "!pip install torch==2.1.1 torchvision==0.16.1 torchaudio==2.1.1 --index-url https://download.pytorch.org/whl/cu121\n",
    "!pip install transformers accelerate huggingface_hub pandas"
   ]
  },
  {
   "cell_type": "code",
   "execution_count": null,
   "id": "7205752a",
   "metadata": {},
   "outputs": [],
   "source": [
    "!curl -L -o data/im2gps3k/im2gps3k_places365.csv \\\n",
    "     https://raw.githubusercontent.com/TIBHannover/GeoEstimation/original_tf/meta/im2gps3k_places365.csv"
   ]
  },
  {
   "cell_type": "code",
   "execution_count": null,
   "id": "cdf0f5ba",
   "metadata": {},
   "outputs": [],
   "source": [
    "from huggingface_hub import hf_hub_download, login\n",
    "\n",
    "login(token=\"API_KEY\")\n",
    "\n",
    "\n",
    "# Specify the repository\n",
    "repo_id = \"Jia-py/MP16-Pro\"\n",
    "\n",
    "# List of files to download\n",
    "files = [\n",
    "    \"metadata/MP16_Pro_filtered.csv\",\n",
    "    \"metadata/MP16_Pro_places365.csv\",\n",
    "    \"metadata/mp16_urls.csv\",\n",
    "    \"mp-16-images00\"\n",
    "]\n",
    "\n",
    "# Download each file\n",
    "for file in files:\n",
    "    try:\n",
    "        file_path = hf_hub_download(repo_id=repo_id, filename=file, repo_type=\"dataset\", local_dir=\"/data/mp16/\")\n",
    "        print(f\"Downloaded {file} to {file_path}\")\n",
    "    except Exception as e:\n",
    "        print(f\"Error downloading {file}: {e}\")\n",
    "\n"
   ]
  },
  {
   "cell_type": "code",
   "execution_count": null,
   "id": "71e5b444",
   "metadata": {},
   "outputs": [],
   "source": [
    "!tar -xf /data/mp16/mp-16-images00\n",
    "\n",
    "!cd /data/mp16/images && \\\n",
    " ls > /data/mp16/all_files.txt && \\\n",
    " total=$(wc -l < /data/mp16/all_files.txt) && \\\n",
    " part=$((total / 10)) && \\\n",
    " head -n \"$part\" /data/mp16/all_files.txt > /data/mp16/part_files.txt && \\\n",
    " tar -cf /data/mp16/mp-16-images.tar -T /data/mp16/part_files.txt"
   ]
  },
  {
   "cell_type": "code",
   "execution_count": null,
   "id": "a86b8dc5",
   "metadata": {},
   "outputs": [],
   "source": [
    "!python tune.py"
   ]
  }
 ],
 "metadata": {
  "kernelspec": {
   "display_name": "Python 3",
   "language": "python",
   "name": "python3"
  },
  "language_info": {
   "name": "python",
   "version": "3.10.11"
  }
 },
 "nbformat": 4,
 "nbformat_minor": 5
}
